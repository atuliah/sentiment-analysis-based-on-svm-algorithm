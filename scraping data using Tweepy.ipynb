{
 "cells": [
  {
   "cell_type": "code",
   "execution_count": 3,
   "id": "43dde480",
   "metadata": {},
   "outputs": [
    {
     "name": "stdout",
     "output_type": "stream",
     "text": [
      "Total Tweets fetched: 1000\n"
     ]
    }
   ],
   "source": [
    "import twitter\n",
    "import tweepy as tw\n",
    "import csv\n",
    "import pandas as pd\n",
    "import datetime\n",
    "\n",
    "# These are dummy keys\n",
    "api_key = 'p8899l9Xu08T691fmz9cDL7TY'\n",
    "api_key_secret = 'tCNb3NPCh5YxWHPQCLDieMxfApAi3hChupuIoX8lG00MYavq8j'\n",
    "access_token = '1585570897-iV77FFjMcx2miDxf9j12qv8C5xQPIc5moGxHa0A'\n",
    "access_token_secret = '9QqkOSOgSMOj8111ZBEJyzT4hXQJB7FHmp9ayiiyzLuN0'\n",
    "\n",
    " \n",
    "# Nothing to see by displaying twitter_api except that it's now a\n",
    "# defined variable\n",
    "auth = tw.OAuthHandler(api_key,api_key_secret)\n",
    "auth.set_access_token(access_token,access_token_secret)\n",
    "api = tw.API(auth,wait_on_rate_limit=True)\n",
    "search_key = [\"#ActOnClimate\"]\n",
    "\n",
    "\n",
    "# get tweets from the API\n",
    "tweets = tw.Cursor(api.search_tweets,\n",
    "              q=search_key,\n",
    "              lang=\"en\",\n",
    "              until=\"2022-04-15\").items(1000)\n",
    "              \n",
    "# store the API responses in a list\n",
    "tweets_copy = []\n",
    "for tweet in tweets:\n",
    "    tweets_copy.append(tweet)\n",
    "    \n",
    "print(\"Total Tweets fetched:\", len(tweets_copy))"
   ]
  },
  {
   "cell_type": "code",
   "execution_count": 4,
   "id": "f4daa6ed",
   "metadata": {},
   "outputs": [],
   "source": [
    "import pandas as pd\n",
    "\n",
    "# create dataframe\n",
    "columns = ['Time', 'User', 'User_Location','Tweet']\n",
    "\n",
    "data = []\n",
    "for tweet in tweets_copy:\n",
    "    data.append([tweet.created_at, tweet.user.screen_name, tweet.user.location,tweet.text])\n",
    "\n",
    "df = pd.DataFrame(data, columns=columns)\n",
    "\n",
    "df.to_csv('actonclimate.csv')"
   ]
  },
  {
   "cell_type": "code",
   "execution_count": null,
   "id": "eae4ad43",
   "metadata": {},
   "outputs": [],
   "source": []
  }
 ],
 "metadata": {
  "kernelspec": {
   "display_name": "Python 3 (ipykernel)",
   "language": "python",
   "name": "python3"
  },
  "language_info": {
   "codemirror_mode": {
    "name": "ipython",
    "version": 3
   },
   "file_extension": ".py",
   "mimetype": "text/x-python",
   "name": "python",
   "nbconvert_exporter": "python",
   "pygments_lexer": "ipython3",
   "version": "3.10.4"
  }
 },
 "nbformat": 4,
 "nbformat_minor": 5
}
